{
 "cells": [
  {
   "cell_type": "markdown",
   "metadata": {},
   "source": [
    "<center><h1><strong> Twitter Sentiment Analysis using ML </strong></h1>"
   ]
  },
  {
   "cell_type": "markdown",
   "metadata": {},
   "source": [
    "### Importing Dependencies"
   ]
  },
  {
   "cell_type": "code",
   "execution_count": 4,
   "metadata": {},
   "outputs": [],
   "source": [
    "import pandas as pd\n",
    "import numpy as np\n",
    "import re \n",
    "import seaborn as sns\n",
    "from nltk.corpus import stopwords\n",
    "from nltk.stem.porter import PorterStemmer\n",
    "from sklearn.feature_extraction.text import TfidfVectorizer\n",
    "from sklearn.model_selection import train_test_split\n",
    "from sklearn.linear_model import LogisticRegression\n",
    "from sklearn.metrics import accuracy_score\n",
    "import nltk\n",
    "from sklearn.utils import resample"
   ]
  },
  {
   "cell_type": "code",
   "execution_count": 5,
   "metadata": {},
   "outputs": [
    {
     "name": "stderr",
     "output_type": "stream",
     "text": [
      "[nltk_data] Downloading package stopwords to\n",
      "[nltk_data]     C:\\Users\\rajku\\AppData\\Roaming\\nltk_data...\n",
      "[nltk_data]   Package stopwords is already up-to-date!\n"
     ]
    },
    {
     "data": {
      "text/plain": [
       "True"
      ]
     },
     "execution_count": 5,
     "metadata": {},
     "output_type": "execute_result"
    }
   ],
   "source": [
    "nltk.download('stopwords')"
   ]
  },
  {
   "cell_type": "code",
   "execution_count": 6,
   "metadata": {},
   "outputs": [
    {
     "name": "stdout",
     "output_type": "stream",
     "text": [
      "['a', 'about', 'above', 'after', 'again', 'against', 'ain', 'all', 'am', 'an', 'and', 'any', 'are', 'aren', \"aren't\", 'as', 'at', 'be', 'because', 'been', 'before', 'being', 'below', 'between', 'both', 'but', 'by', 'can', 'couldn', \"couldn't\", 'd', 'did', 'didn', \"didn't\", 'do', 'does', 'doesn', \"doesn't\", 'doing', 'don', \"don't\", 'down', 'during', 'each', 'few', 'for', 'from', 'further', 'had', 'hadn', \"hadn't\", 'has', 'hasn', \"hasn't\", 'have', 'haven', \"haven't\", 'having', 'he', \"he'd\", \"he'll\", 'her', 'here', 'hers', 'herself', \"he's\", 'him', 'himself', 'his', 'how', 'i', \"i'd\", 'if', \"i'll\", \"i'm\", 'in', 'into', 'is', 'isn', \"isn't\", 'it', \"it'd\", \"it'll\", \"it's\", 'its', 'itself', \"i've\", 'just', 'll', 'm', 'ma', 'me', 'mightn', \"mightn't\", 'more', 'most', 'mustn', \"mustn't\", 'my', 'myself', 'needn', \"needn't\", 'no', 'nor', 'not', 'now', 'o', 'of', 'off', 'on', 'once', 'only', 'or', 'other', 'our', 'ours', 'ourselves', 'out', 'over', 'own', 're', 's', 'same', 'shan', \"shan't\", 'she', \"she'd\", \"she'll\", \"she's\", 'should', 'shouldn', \"shouldn't\", \"should've\", 'so', 'some', 'such', 't', 'than', 'that', \"that'll\", 'the', 'their', 'theirs', 'them', 'themselves', 'then', 'there', 'these', 'they', \"they'd\", \"they'll\", \"they're\", \"they've\", 'this', 'those', 'through', 'to', 'too', 'under', 'until', 'up', 've', 'very', 'was', 'wasn', \"wasn't\", 'we', \"we'd\", \"we'll\", \"we're\", 'were', 'weren', \"weren't\", \"we've\", 'what', 'when', 'where', 'which', 'while', 'who', 'whom', 'why', 'will', 'with', 'won', \"won't\", 'wouldn', \"wouldn't\", 'y', 'you', \"you'd\", \"you'll\", 'your', \"you're\", 'yours', 'yourself', 'yourselves', \"you've\"]\n"
     ]
    }
   ],
   "source": [
    "print(stopwords.words('english'))"
   ]
  },
  {
   "cell_type": "markdown",
   "metadata": {},
   "source": [
    "### Data Preprocessing"
   ]
  },
  {
   "cell_type": "code",
   "execution_count": 7,
   "metadata": {},
   "outputs": [
    {
     "name": "stdout",
     "output_type": "stream",
     "text": [
      "   2401  Borderlands  Positive  \\\n",
      "0  2401  Borderlands  Positive   \n",
      "1  2401  Borderlands  Positive   \n",
      "2  2401  Borderlands  Positive   \n",
      "3  2401  Borderlands  Positive   \n",
      "4  2401  Borderlands  Positive   \n",
      "\n",
      "  im getting on borderlands and i will murder you all ,  \n",
      "0  I am coming to the borders and I will kill you...     \n",
      "1  im getting on borderlands and i will kill you ...     \n",
      "2  im coming on borderlands and i will murder you...     \n",
      "3  im getting on borderlands 2 and i will murder ...     \n",
      "4  im getting into borderlands and i can murder y...     \n"
     ]
    }
   ],
   "source": [
    "import pandas as pd\n",
    "\n",
    "file_path = r\"C:\\Users\\rajku\\twitter_training.csv\\twitter_training.csv\"\n",
    "df = pd.read_csv(file_path, encoding=\"ISO-8859-1\")\n",
    "\n",
    "print(df.head())\n"
   ]
  },
  {
   "cell_type": "code",
   "execution_count": 8,
   "metadata": {},
   "outputs": [
    {
     "data": {
      "text/html": [
       "<div>\n",
       "<style scoped>\n",
       "    .dataframe tbody tr th:only-of-type {\n",
       "        vertical-align: middle;\n",
       "    }\n",
       "\n",
       "    .dataframe tbody tr th {\n",
       "        vertical-align: top;\n",
       "    }\n",
       "\n",
       "    .dataframe thead th {\n",
       "        text-align: right;\n",
       "    }\n",
       "</style>\n",
       "<table border=\"1\" class=\"dataframe\">\n",
       "  <thead>\n",
       "    <tr style=\"text-align: right;\">\n",
       "      <th></th>\n",
       "      <th>2401</th>\n",
       "      <th>Borderlands</th>\n",
       "      <th>Positive</th>\n",
       "      <th>im getting on borderlands and i will murder you all ,</th>\n",
       "    </tr>\n",
       "  </thead>\n",
       "  <tbody>\n",
       "    <tr>\n",
       "      <th>0</th>\n",
       "      <td>2401</td>\n",
       "      <td>Borderlands</td>\n",
       "      <td>Positive</td>\n",
       "      <td>I am coming to the borders and I will kill you...</td>\n",
       "    </tr>\n",
       "    <tr>\n",
       "      <th>1</th>\n",
       "      <td>2401</td>\n",
       "      <td>Borderlands</td>\n",
       "      <td>Positive</td>\n",
       "      <td>im getting on borderlands and i will kill you ...</td>\n",
       "    </tr>\n",
       "    <tr>\n",
       "      <th>2</th>\n",
       "      <td>2401</td>\n",
       "      <td>Borderlands</td>\n",
       "      <td>Positive</td>\n",
       "      <td>im coming on borderlands and i will murder you...</td>\n",
       "    </tr>\n",
       "    <tr>\n",
       "      <th>3</th>\n",
       "      <td>2401</td>\n",
       "      <td>Borderlands</td>\n",
       "      <td>Positive</td>\n",
       "      <td>im getting on borderlands 2 and i will murder ...</td>\n",
       "    </tr>\n",
       "    <tr>\n",
       "      <th>4</th>\n",
       "      <td>2401</td>\n",
       "      <td>Borderlands</td>\n",
       "      <td>Positive</td>\n",
       "      <td>im getting into borderlands and i can murder y...</td>\n",
       "    </tr>\n",
       "  </tbody>\n",
       "</table>\n",
       "</div>"
      ],
      "text/plain": [
       "   2401  Borderlands  Positive  \\\n",
       "0  2401  Borderlands  Positive   \n",
       "1  2401  Borderlands  Positive   \n",
       "2  2401  Borderlands  Positive   \n",
       "3  2401  Borderlands  Positive   \n",
       "4  2401  Borderlands  Positive   \n",
       "\n",
       "  im getting on borderlands and i will murder you all ,  \n",
       "0  I am coming to the borders and I will kill you...     \n",
       "1  im getting on borderlands and i will kill you ...     \n",
       "2  im coming on borderlands and i will murder you...     \n",
       "3  im getting on borderlands 2 and i will murder ...     \n",
       "4  im getting into borderlands and i can murder y...     "
      ]
     },
     "execution_count": 8,
     "metadata": {},
     "output_type": "execute_result"
    }
   ],
   "source": [
    "df.head()"
   ]
  },
  {
   "cell_type": "code",
   "execution_count": 9,
   "metadata": {},
   "outputs": [
    {
     "data": {
      "text/plain": [
       "(74681, 4)"
      ]
     },
     "execution_count": 9,
     "metadata": {},
     "output_type": "execute_result"
    }
   ],
   "source": [
    "# checking the number of rows and columns\n",
    "df.shape"
   ]
  },
  {
   "cell_type": "code",
   "execution_count": 10,
   "metadata": {},
   "outputs": [
    {
     "name": "stdout",
     "output_type": "stream",
     "text": [
      "Dataset with column names have been read.\n"
     ]
    }
   ],
   "source": [
    "# naming the cols and reading the dataset again\n",
    "col_names = ['id', 'topic', 'sentiment', 'text']\n",
    "df = pd.read_csv(r\"C:\\Users\\rajku\\twitter_training.csv\\twitter_training.csv\", \n",
    "                 names=col_names, encoding='ISO-8859-1')\n",
    "print(\"Dataset with column names have been read.\")"
   ]
  },
  {
   "cell_type": "code",
   "execution_count": 11,
   "metadata": {},
   "outputs": [
    {
     "data": {
      "text/html": [
       "<div>\n",
       "<style scoped>\n",
       "    .dataframe tbody tr th:only-of-type {\n",
       "        vertical-align: middle;\n",
       "    }\n",
       "\n",
       "    .dataframe tbody tr th {\n",
       "        vertical-align: top;\n",
       "    }\n",
       "\n",
       "    .dataframe thead th {\n",
       "        text-align: right;\n",
       "    }\n",
       "</style>\n",
       "<table border=\"1\" class=\"dataframe\">\n",
       "  <thead>\n",
       "    <tr style=\"text-align: right;\">\n",
       "      <th></th>\n",
       "      <th>id</th>\n",
       "      <th>topic</th>\n",
       "      <th>sentiment</th>\n",
       "      <th>text</th>\n",
       "    </tr>\n",
       "  </thead>\n",
       "  <tbody>\n",
       "    <tr>\n",
       "      <th>0</th>\n",
       "      <td>2401</td>\n",
       "      <td>Borderlands</td>\n",
       "      <td>Positive</td>\n",
       "      <td>im getting on borderlands and i will murder yo...</td>\n",
       "    </tr>\n",
       "    <tr>\n",
       "      <th>1</th>\n",
       "      <td>2401</td>\n",
       "      <td>Borderlands</td>\n",
       "      <td>Positive</td>\n",
       "      <td>I am coming to the borders and I will kill you...</td>\n",
       "    </tr>\n",
       "    <tr>\n",
       "      <th>2</th>\n",
       "      <td>2401</td>\n",
       "      <td>Borderlands</td>\n",
       "      <td>Positive</td>\n",
       "      <td>im getting on borderlands and i will kill you ...</td>\n",
       "    </tr>\n",
       "    <tr>\n",
       "      <th>3</th>\n",
       "      <td>2401</td>\n",
       "      <td>Borderlands</td>\n",
       "      <td>Positive</td>\n",
       "      <td>im coming on borderlands and i will murder you...</td>\n",
       "    </tr>\n",
       "    <tr>\n",
       "      <th>4</th>\n",
       "      <td>2401</td>\n",
       "      <td>Borderlands</td>\n",
       "      <td>Positive</td>\n",
       "      <td>im getting on borderlands 2 and i will murder ...</td>\n",
       "    </tr>\n",
       "  </tbody>\n",
       "</table>\n",
       "</div>"
      ],
      "text/plain": [
       "     id        topic sentiment  \\\n",
       "0  2401  Borderlands  Positive   \n",
       "1  2401  Borderlands  Positive   \n",
       "2  2401  Borderlands  Positive   \n",
       "3  2401  Borderlands  Positive   \n",
       "4  2401  Borderlands  Positive   \n",
       "\n",
       "                                                text  \n",
       "0  im getting on borderlands and i will murder yo...  \n",
       "1  I am coming to the borders and I will kill you...  \n",
       "2  im getting on borderlands and i will kill you ...  \n",
       "3  im coming on borderlands and i will murder you...  \n",
       "4  im getting on borderlands 2 and i will murder ...  "
      ]
     },
     "execution_count": 11,
     "metadata": {},
     "output_type": "execute_result"
    }
   ],
   "source": [
    "df.head()"
   ]
  },
  {
   "cell_type": "code",
   "execution_count": 12,
   "metadata": {},
   "outputs": [
    {
     "data": {
      "text/plain": [
       "(74682, 4)"
      ]
     },
     "execution_count": 12,
     "metadata": {},
     "output_type": "execute_result"
    }
   ],
   "source": [
    "df.shape"
   ]
  },
  {
   "cell_type": "code",
   "execution_count": 13,
   "metadata": {},
   "outputs": [
    {
     "data": {
      "text/plain": [
       "id             0\n",
       "topic          0\n",
       "sentiment      0\n",
       "text         686\n",
       "dtype: int64"
      ]
     },
     "execution_count": 13,
     "metadata": {},
     "output_type": "execute_result"
    }
   ],
   "source": [
    "# finding the missing values in the dataset\n",
    "df.isnull().sum()"
   ]
  },
  {
   "cell_type": "markdown",
   "metadata": {},
   "source": [
    "<code> There are no missing values in the dataset. </code>"
   ]
  },
  {
   "cell_type": "code",
   "execution_count": 15,
   "metadata": {},
   "outputs": [
    {
     "data": {
      "text/plain": [
       "Negative      22542\n",
       "Positive      20832\n",
       "Neutral       18318\n",
       "Irrelevant    12990\n",
       "Name: sentiment, dtype: int64"
      ]
     },
     "execution_count": 15,
     "metadata": {},
     "output_type": "execute_result"
    }
   ],
   "source": [
    "# finding the distribution of \"sentiment\" column\n",
    "df['sentiment'].value_counts()"
   ]
  },
  {
   "cell_type": "markdown",
   "metadata": {},
   "source": [
    "For our own convenience we can change Label \"4\" into \"1\". 1 means negative"
   ]
  },
  {
   "cell_type": "code",
   "execution_count": 16,
   "metadata": {},
   "outputs": [
    {
     "data": {
      "text/plain": [
       "0    22542\n",
       "1    20832\n",
       "2    18318\n",
       "3    12990\n",
       "Name: sentiment, dtype: int64"
      ]
     },
     "execution_count": 16,
     "metadata": {},
     "output_type": "execute_result"
    }
   ],
   "source": [
    "df['sentiment'] = df['sentiment'].map({\n",
    "    'Negative': 0,\n",
    "    'Positive': 1,\n",
    "    'Neutral': 2,\n",
    "    'Irrelevant': 3\n",
    "})\n",
    "df['sentiment'].value_counts()\n"
   ]
  },
  {
   "cell_type": "code",
   "execution_count": 17,
   "metadata": {},
   "outputs": [
    {
     "data": {
      "text/plain": [
       "<Axes: xlabel='sentiment', ylabel='count'>"
      ]
     },
     "execution_count": 17,
     "metadata": {},
     "output_type": "execute_result"
    },
    {
     "data": {
      "image/png": "[encoded data removed]",
      "text/plain": [
       "<Figure size 640x480 with 1 Axes>"
      ]
     },
     "metadata": {},
     "output_type": "display_data"
    }
   ],
   "source": [
    "import seaborn as sns\n",
    "import matplotlib.pyplot as plt\n",
    "\n",
    "sns.set_style('whitegrid')\n",
    "sns.countplot(x='sentiment', data=df, palette='RdBu_r')"
   ]
  },
  {
   "cell_type": "markdown",
   "metadata": {},
   "source": [
    "<code> Now, <br> 0 --> positive Tweet <br> 1 --> Positive Tweet </code>"
   ]
  },
  {
   "cell_type": "code",
   "execution_count": 20,
   "metadata": {},
   "outputs": [],
   "source": [
    "# 0 → Negative  \n",
    "# 1 → Positive  \n",
    "# 2 → Neutral  \n",
    "# 3 → Irrelevant\n",
    "\n",
    "df_negative   = df[df['sentiment'] == 0]\n",
    "df_positive   = df[df['sentiment'] == 1]\n",
    "df_neutral    = df[df['sentiment'] == 2]\n",
    "df_irrelevant = df[df['sentiment'] == 3]\n"
   ]
  },
  {
   "cell_type": "code",
   "execution_count": 21,
   "metadata": {},
   "outputs": [],
   "source": [
    "df_positive_unsampled = resample(df_positive,replace=True,n_samples=len(df_negative),random_state=42)\n",
    "df_balanced = pd.concat([df_negative,df_positive_unsampled])"
   ]
  },
  {
   "cell_type": "code",
   "execution_count": 23,
   "metadata": {},
   "outputs": [
    {
     "data": {
      "text/plain": [
       "0    22542\n",
       "1    22542\n",
       "Name: sentiment, dtype: int64"
      ]
     },
     "execution_count": 23,
     "metadata": {},
     "output_type": "execute_result"
    }
   ],
   "source": [
    "df=df_balanced\n",
    "df['sentiment'].value_counts()\n"
   ]
  },
  {
   "cell_type": "code",
   "execution_count": 24,
   "metadata": {},
   "outputs": [],
   "source": [
    "negative=df[df['sentiment'] == 0]\n",
    "positive=df[df['sentiment'] == 1]"
   ]
  },
  {
   "cell_type": "code",
   "execution_count": 25,
   "metadata": {},
   "outputs": [],
   "source": [
    "positive_sample=positive.sample(n=9000,random_state=25)\n",
    "negative_sample=negative.sample(n=9000,random_state=25)"
   ]
  },
  {
   "cell_type": "code",
   "execution_count": 26,
   "metadata": {},
   "outputs": [],
   "source": [
    "sampled_df=pd.concat([positive_sample,negative_sample])"
   ]
  },
  {
   "cell_type": "code",
   "execution_count": 27,
   "metadata": {},
   "outputs": [],
   "source": [
    "sampled_df=sampled_df.sample(frac=1,random_state=1).reset_index(drop=True)\n",
    "df=sampled_df\n"
   ]
  },
  {
   "cell_type": "code",
   "execution_count": 29,
   "metadata": {},
   "outputs": [
    {
     "data": {
      "text/plain": [
       "1    9000\n",
       "0    9000\n",
       "Name: sentiment, dtype: int64"
      ]
     },
     "execution_count": 29,
     "metadata": {},
     "output_type": "execute_result"
    }
   ],
   "source": [
    "df['sentiment'].value_counts()"
   ]
  },
  {
   "cell_type": "code",
   "execution_count": 30,
   "metadata": {},
   "outputs": [
    {
     "data": {
      "text/html": [
       "<div>\n",
       "<style scoped>\n",
       "    .dataframe tbody tr th:only-of-type {\n",
       "        vertical-align: middle;\n",
       "    }\n",
       "\n",
       "    .dataframe tbody tr th {\n",
       "        vertical-align: top;\n",
       "    }\n",
       "\n",
       "    .dataframe thead th {\n",
       "        text-align: right;\n",
       "    }\n",
       "</style>\n",
       "<table border=\"1\" class=\"dataframe\">\n",
       "  <thead>\n",
       "    <tr style=\"text-align: right;\">\n",
       "      <th></th>\n",
       "      <th>id</th>\n",
       "      <th>topic</th>\n",
       "      <th>sentiment</th>\n",
       "      <th>text</th>\n",
       "    </tr>\n",
       "  </thead>\n",
       "  <tbody>\n",
       "    <tr>\n",
       "      <th>0</th>\n",
       "      <td>3030</td>\n",
       "      <td>Dota2</td>\n",
       "      <td>1</td>\n",
       "      <td>soon i can finally see melee again. it is just...</td>\n",
       "    </tr>\n",
       "    <tr>\n",
       "      <th>1</th>\n",
       "      <td>1751</td>\n",
       "      <td>CallOfDutyBlackopsColdWar</td>\n",
       "      <td>1</td>\n",
       "      <td>Returning to one of the most prosperous and me...</td>\n",
       "    </tr>\n",
       "    <tr>\n",
       "      <th>2</th>\n",
       "      <td>2429</td>\n",
       "      <td>Borderlands</td>\n",
       "      <td>1</td>\n",
       "      <td>Bioshock And borderlands coming to the switch ...</td>\n",
       "    </tr>\n",
       "    <tr>\n",
       "      <th>3</th>\n",
       "      <td>2000</td>\n",
       "      <td>CallOfDutyBlackopsColdWar</td>\n",
       "      <td>1</td>\n",
       "      <td>I would remain grateful.</td>\n",
       "    </tr>\n",
       "    <tr>\n",
       "      <th>4</th>\n",
       "      <td>9476</td>\n",
       "      <td>Overwatch</td>\n",
       "      <td>0</td>\n",
       "      <td>So why did @ PlayOverwatch set the season 23 p...</td>\n",
       "    </tr>\n",
       "  </tbody>\n",
       "</table>\n",
       "</div>"
      ],
      "text/plain": [
       "     id                      topic  sentiment  \\\n",
       "0  3030                      Dota2          1   \n",
       "1  1751  CallOfDutyBlackopsColdWar          1   \n",
       "2  2429                Borderlands          1   \n",
       "3  2000  CallOfDutyBlackopsColdWar          1   \n",
       "4  9476                  Overwatch          0   \n",
       "\n",
       "                                                text  \n",
       "0  soon i can finally see melee again. it is just...  \n",
       "1  Returning to one of the most prosperous and me...  \n",
       "2  Bioshock And borderlands coming to the switch ...  \n",
       "3                           I would remain grateful.  \n",
       "4  So why did @ PlayOverwatch set the season 23 p...  "
      ]
     },
     "execution_count": 30,
     "metadata": {},
     "output_type": "execute_result"
    }
   ],
   "source": [
    "df.head()"
   ]
  },
  {
   "cell_type": "markdown",
   "metadata": {},
   "source": [
    "### Stemming"
   ]
  },
  {
   "cell_type": "markdown",
   "metadata": {},
   "source": [
    "<code>STEMMING:</code> The process of reducing a word to it's root word."
   ]
  },
  {
   "cell_type": "markdown",
   "metadata": {},
   "source": [
    "e.g: diving, diver, dived == dive"
   ]
  },
  {
   "cell_type": "code",
   "execution_count": 31,
   "metadata": {},
   "outputs": [
    {
     "data": {
      "text/plain": [
       "<PorterStemmer>"
      ]
     },
     "execution_count": 31,
     "metadata": {},
     "output_type": "execute_result"
    }
   ],
   "source": [
    "port_stem = PorterStemmer()\n",
    "port_stem"
   ]
  },
  {
   "cell_type": "code",
   "execution_count": 32,
   "metadata": {},
   "outputs": [],
   "source": [
    "def stemming(content):\n",
    "    stemmed_content = re.sub('[^a-zA-Z]', ' ', content)\n",
    "    stemmed_content = stemmed_content.lower()\n",
    "    stemmed_content = stemmed_content.split()\n",
    "    stemmed_content = [port_stem.stem(word) for word in stemmed_content if not word in stopwords.words('english')]\n",
    "    stemmed_content = ' '.join(stemmed_content)\n",
    "    \n",
    "    return stemmed_content"
   ]
  },
  {
   "cell_type": "code",
   "execution_count": 38,
   "metadata": {},
   "outputs": [],
   "source": [
    "# Fill missing text with empty string\n",
    "df['text'] = df['text'].fillna('')\n",
    "\n",
    "# Then apply stemming\n",
    "df['stemmed_content'] = df['text'].apply(stemming)\n"
   ]
  },
  {
   "cell_type": "code",
   "execution_count": 39,
   "metadata": {},
   "outputs": [
    {
     "data": {
      "text/html": [
       "<div>\n",
       "<style scoped>\n",
       "    .dataframe tbody tr th:only-of-type {\n",
       "        vertical-align: middle;\n",
       "    }\n",
       "\n",
       "    .dataframe tbody tr th {\n",
       "        vertical-align: top;\n",
       "    }\n",
       "\n",
       "    .dataframe thead th {\n",
       "        text-align: right;\n",
       "    }\n",
       "</style>\n",
       "<table border=\"1\" class=\"dataframe\">\n",
       "  <thead>\n",
       "    <tr style=\"text-align: right;\">\n",
       "      <th></th>\n",
       "      <th>id</th>\n",
       "      <th>topic</th>\n",
       "      <th>sentiment</th>\n",
       "      <th>text</th>\n",
       "      <th>stemmed_content</th>\n",
       "    </tr>\n",
       "  </thead>\n",
       "  <tbody>\n",
       "    <tr>\n",
       "      <th>0</th>\n",
       "      <td>3030</td>\n",
       "      <td>Dota2</td>\n",
       "      <td>1</td>\n",
       "      <td>soon i can finally see melee again. it is just...</td>\n",
       "      <td>soon final see mele ice leffen compet lul also...</td>\n",
       "    </tr>\n",
       "    <tr>\n",
       "      <th>1</th>\n",
       "      <td>1751</td>\n",
       "      <td>CallOfDutyBlackopsColdWar</td>\n",
       "      <td>1</td>\n",
       "      <td>Returning to one of the most prosperous and me...</td>\n",
       "      <td>return one prosper memor video game seri time ...</td>\n",
       "    </tr>\n",
       "    <tr>\n",
       "      <th>2</th>\n",
       "      <td>2429</td>\n",
       "      <td>Borderlands</td>\n",
       "      <td>1</td>\n",
       "      <td>Bioshock And borderlands coming to the switch ...</td>\n",
       "      <td>bioshock borderland come switch bitch count fuck</td>\n",
       "    </tr>\n",
       "    <tr>\n",
       "      <th>3</th>\n",
       "      <td>2000</td>\n",
       "      <td>CallOfDutyBlackopsColdWar</td>\n",
       "      <td>1</td>\n",
       "      <td>I would remain grateful.</td>\n",
       "      <td>would remain grate</td>\n",
       "    </tr>\n",
       "    <tr>\n",
       "      <th>4</th>\n",
       "      <td>9476</td>\n",
       "      <td>Overwatch</td>\n",
       "      <td>0</td>\n",
       "      <td>So why did @ PlayOverwatch set the season 23 p...</td>\n",
       "      <td>playoverwatch set season placement cap sr</td>\n",
       "    </tr>\n",
       "  </tbody>\n",
       "</table>\n",
       "</div>"
      ],
      "text/plain": [
       "     id                      topic  sentiment  \\\n",
       "0  3030                      Dota2          1   \n",
       "1  1751  CallOfDutyBlackopsColdWar          1   \n",
       "2  2429                Borderlands          1   \n",
       "3  2000  CallOfDutyBlackopsColdWar          1   \n",
       "4  9476                  Overwatch          0   \n",
       "\n",
       "                                                text  \\\n",
       "0  soon i can finally see melee again. it is just...   \n",
       "1  Returning to one of the most prosperous and me...   \n",
       "2  Bioshock And borderlands coming to the switch ...   \n",
       "3                           I would remain grateful.   \n",
       "4  So why did @ PlayOverwatch set the season 23 p...   \n",
       "\n",
       "                                     stemmed_content  \n",
       "0  soon final see mele ice leffen compet lul also...  \n",
       "1  return one prosper memor video game seri time ...  \n",
       "2   bioshock borderland come switch bitch count fuck  \n",
       "3                                 would remain grate  \n",
       "4          playoverwatch set season placement cap sr  "
      ]
     },
     "execution_count": 39,
     "metadata": {},
     "output_type": "execute_result"
    }
   ],
   "source": [
    "df.head()"
   ]
  },
  {
   "cell_type": "code",
   "execution_count": 40,
   "metadata": {},
   "outputs": [
    {
     "name": "stdout",
     "output_type": "stream",
     "text": [
      "0        soon final see mele ice leffen compet lul also...\n",
      "1        return one prosper memor video game seri time ...\n",
      "2         bioshock borderland come switch bitch count fuck\n",
      "3                                       would remain grate\n",
      "4                playoverwatch set season placement cap sr\n",
      "                               ...                        \n",
      "17995                           dude fuck even passa pleas\n",
      "17996    done rainbow game unless hit squad okay know m...\n",
      "17997    although might actual actual tri fabl time aro...\n",
      "17998    nba k game mean suck fuck tf pure slasher hitt...\n",
      "17999    damn call duti made statement live black game ...\n",
      "Name: stemmed_content, Length: 18000, dtype: object\n"
     ]
    }
   ],
   "source": [
    "print(df['stemmed_content'])\n"
   ]
  },
  {
   "cell_type": "code",
   "execution_count": 41,
   "metadata": {},
   "outputs": [
    {
     "name": "stdout",
     "output_type": "stream",
     "text": [
      "0        1\n",
      "1        1\n",
      "2        1\n",
      "3        1\n",
      "4        0\n",
      "        ..\n",
      "17995    0\n",
      "17996    0\n",
      "17997    1\n",
      "17998    0\n",
      "17999    1\n",
      "Name: sentiment, Length: 18000, dtype: int64\n"
     ]
    }
   ],
   "source": [
    "print(df['sentiment'])"
   ]
  },
  {
   "cell_type": "code",
   "execution_count": 43,
   "metadata": {},
   "outputs": [],
   "source": [
    "# seperating stemmed data and label\n",
    "X = df['stemmed_content'].values\n",
    "Y = df['sentiment'].values\n"
   ]
  },
  {
   "cell_type": "code",
   "execution_count": 44,
   "metadata": {},
   "outputs": [
    {
     "name": "stdout",
     "output_type": "stream",
     "text": [
      "['soon final see mele ice leffen compet lul also work day month late fight hour work day still proud manag becom immort dota'\n",
      " 'return one prosper memor video game seri time call duti black op cold war set earli height cold war direct sequel call duti black op youtu mt rj qk'\n",
      " 'bioshock borderland come switch bitch count fuck' ...\n",
      " 'although might actual actual tri fabl time around never play xbox cant wait also see someth'\n",
      " 'nba k game mean suck fuck tf pure slasher hittin unk'\n",
      " 'damn call duti made statement live black game start good shit infinityward']\n"
     ]
    }
   ],
   "source": [
    "print(X)"
   ]
  },
  {
   "cell_type": "code",
   "execution_count": 45,
   "metadata": {},
   "outputs": [
    {
     "name": "stdout",
     "output_type": "stream",
     "text": [
      "[1 1 1 ... 1 0 1]\n"
     ]
    }
   ],
   "source": [
    "print(Y)"
   ]
  },
  {
   "cell_type": "markdown",
   "metadata": {},
   "source": [
    "### Splitting Data into Training and Testing Data"
   ]
  },
  {
   "cell_type": "code",
   "execution_count": 46,
   "metadata": {},
   "outputs": [],
   "source": [
    "X_train, X_test, Y_train, Y_test = train_test_split(X,Y, test_size=0.2, stratify=Y, random_state=2)"
   ]
  },
  {
   "cell_type": "code",
   "execution_count": 47,
   "metadata": {},
   "outputs": [
    {
     "name": "stdout",
     "output_type": "stream",
     "text": [
      "(18000,) (14400,) (3600,)\n"
     ]
    }
   ],
   "source": [
    "print(X.shape,X_train.shape,X_test.shape)"
   ]
  },
  {
   "cell_type": "code",
   "execution_count": 48,
   "metadata": {},
   "outputs": [
    {
     "name": "stdout",
     "output_type": "stream",
     "text": [
      "['thing absolut describ cap anxiou feel right world list task must done task go get cash reward particular task formula sooth toward'\n",
      " 'super feel realli inadequ'\n",
      " 'rockstargam good veteran gta year togeth absolut lov english game realli realli good realli guy need sort game hard'\n",
      " ...\n",
      " 'need ai precis program text respons work realli well hellcomput dot com'\n",
      " 'hi sever game want back show user fortnit glitch epicgames'\n",
      " 'finish main stori red dead redempt never forgiv game happen ashley william bastard']\n"
     ]
    }
   ],
   "source": [
    "print(X_train)"
   ]
  },
  {
   "cell_type": "code",
   "execution_count": 49,
   "metadata": {},
   "outputs": [
    {
     "name": "stdout",
     "output_type": "stream",
     "text": [
      "['sooo guess came facebook like actual feel good' 'excit releas'\n",
      " 'think bot pubg terribl mistak damn hope somehow wrong youtu tgbwcw' ...\n",
      " 'bait dawg alreadi say screw game damn minut'\n",
      " 'love dream unbox fuck knife safari mesh csgo'\n",
      " 'freddi mac mobil comcast provid wireless internet access turn wireless data nation crisi verizon nowher els think twice provid']\n"
     ]
    }
   ],
   "source": [
    "print(X_test)"
   ]
  },
  {
   "cell_type": "markdown",
   "metadata": {},
   "source": [
    "As ML algorithms do not recognize textual data, so we have to convert them into numerical data."
   ]
  },
  {
   "cell_type": "code",
   "execution_count": 50,
   "metadata": {},
   "outputs": [],
   "source": [
    "vectorizer = TfidfVectorizer()\n",
    "\n",
    "X_train = vectorizer.fit_transform(X_train)\n",
    "X_test = vectorizer.transform(X_test)"
   ]
  },
  {
   "cell_type": "code",
   "execution_count": null,
   "metadata": {},
   "outputs": [
    {
     "name": "stdout",
     "output_type": "stream",
     "text": [
      "  (0, 15223)\t0.24439836797221454\n",
      "  (0, 3619)\t0.2854726523790613\n",
      "  (0, 7702)\t0.2807431072656834\n",
      "  (0, 6714)\t0.19428784708104427\n",
      "  (0, 11387)\t0.1918992252108499\n",
      "  (0, 10446)\t0.3283514965635757\n",
      "  (0, 15969)\t0.2807431072656834\n",
      "  (0, 9710)\t0.15812106136977008\n",
      "  (0, 13068)\t0.24720099742523485\n",
      "  (0, 10026)\t0.16135270039230987\n",
      "  (0, 17136)\t0.33217865038616673\n",
      "  (0, 19203)\t0.22264247700884063\n",
      "  (0, 276)\t0.29873341567717315\n",
      "  (0, 12066)\t0.39680518315990515\n",
      "  (1, 6136)\t0.3962199271626255\n",
      "  (1, 12516)\t0.5450983333038139\n",
      "  (1, 1811)\t0.7388352836381381\n",
      "  (2, 15702)\t0.31178549060203603\n",
      "  (2, 5717)\t0.3038673169768743\n",
      "  (2, 13891)\t0.24253063610691236\n",
      "  (2, 19458)\t0.5105115262576542\n",
      "  (2, 13276)\t0.4829925052690143\n",
      "  (2, 3513)\t0.4456515205521165\n",
      "  (2, 7805)\t0.2431548800960575\n",
      "  (3, 5542)\t0.42055130123629847\n",
      "  :\t:\n",
      "  (14396, 6136)\t0.12947701652679924\n",
      "  (14397, 9894)\t0.7039873500709143\n",
      "  (14397, 15286)\t0.5331611974989794\n",
      "  (14397, 18598)\t0.4691918034467207\n",
      "  (14398, 4812)\t0.445172886810449\n",
      "  (14398, 1645)\t0.35751100653109\n",
      "  (14398, 10924)\t0.3544029263130211\n",
      "  (14398, 18087)\t0.41394709501953836\n",
      "  (14398, 18902)\t0.3644553859756184\n",
      "  (14398, 4836)\t0.26849075314110166\n",
      "  (14398, 6371)\t0.16700127364248302\n",
      "  (14398, 17364)\t0.23083323944342074\n",
      "  (14398, 9919)\t0.19634495667499174\n",
      "  (14398, 6136)\t0.22894013338176017\n",
      "  (14399, 9381)\t0.4023801642293124\n",
      "  (14399, 11730)\t0.4023801642293124\n",
      "  (14399, 10255)\t0.4023801642293124\n",
      "  (14399, 12831)\t0.31291163367362623\n",
      "  (14399, 5540)\t0.3066347901727106\n",
      "  (14399, 10915)\t0.2713111360276894\n",
      "  (14399, 1857)\t0.31071007681495266\n",
      "  (14399, 10969)\t0.1750264311323448\n",
      "  (14399, 12291)\t0.17722798799101835\n",
      "  (14399, 5542)\t0.2553476201126128\n",
      "  (14399, 6573)\t0.1579085890171286\n"
     ]
    }
   ],
   "source": [
    "print(X_train)"
   ]
  },
  {
   "cell_type": "code",
   "execution_count": 51,
   "metadata": {},
   "outputs": [
    {
     "name": "stdout",
     "output_type": "stream",
     "text": [
      "  (0, 8413)\t0.5040376195917481\n",
      "  (0, 5172)\t0.23538102925649798\n",
      "  (0, 3842)\t0.41267566207990336\n",
      "  (0, 3696)\t0.25119199469404113\n",
      "  (0, 3079)\t0.3158451688372827\n",
      "  (0, 2967)\t0.3096002845514111\n",
      "  (0, 1229)\t0.40555477404990137\n",
      "  (0, 79)\t0.3115414052804941\n",
      "  (1, 7449)\t0.7351632103099386\n",
      "  (1, 2892)\t0.6778901490704708\n",
      "  (2, 10410)\t0.26104386583125494\n",
      "  (2, 10196)\t0.278975842412172\n",
      "  (2, 9063)\t0.2239742517487173\n",
      "  (2, 9004)\t0.46633847508813275\n",
      "  (2, 8983)\t0.2972281030619609\n",
      "  (2, 8392)\t0.32266396661539304\n",
      "  (2, 7075)\t0.23943819662213536\n",
      "  (2, 5737)\t0.31940811381687567\n",
      "  (2, 4188)\t0.2569630774832606\n",
      "  (2, 2043)\t0.23663393720130635\n",
      "  (2, 1007)\t0.3354968307865282\n",
      "  (3, 10171)\t0.16077784422925612\n",
      "  (3, 9746)\t0.2356931653770533\n",
      "  (3, 9742)\t0.14791278948306633\n",
      "  (3, 8821)\t0.20788027743240503\n",
      "  :\t:\n",
      "  (3598, 9487)\t0.4621724360400875\n",
      "  (3598, 7818)\t0.4621724360400875\n",
      "  (3598, 5616)\t0.40358125659032434\n",
      "  (3598, 5297)\t0.18497268229083105\n",
      "  (3598, 4936)\t0.40358125659032434\n",
      "  (3598, 3389)\t0.17906386582748787\n",
      "  (3598, 2478)\t0.34044577086329575\n",
      "  (3598, 1942)\t0.25466749547172096\n",
      "  (3599, 10099)\t0.4724282434652263\n",
      "  (3599, 9742)\t0.12945691557009875\n",
      "  (3599, 9388)\t0.2082109804346212\n",
      "  (3599, 9375)\t0.178898381125301\n",
      "  (3599, 9063)\t0.13710113186082526\n",
      "  (3599, 7055)\t0.4164219608692424\n",
      "  (3599, 6196)\t0.23370061803560566\n",
      "  (3599, 5985)\t0.23621412173261316\n",
      "  (3599, 5772)\t0.1646521251556158\n",
      "  (3599, 5382)\t0.23370061803560566\n",
      "  (3599, 4520)\t0.178898381125301\n",
      "  (3599, 3345)\t0.22539032600613326\n",
      "  (3599, 2696)\t0.18115046159440884\n",
      "  (3599, 2072)\t0.18869038611617345\n",
      "  (3599, 1911)\t0.24541331680554804\n",
      "  (3599, 1651)\t0.23621412173261316\n",
      "  (3599, 43)\t0.1819419376668338\n"
     ]
    }
   ],
   "source": [
    "print(X_test)"
   ]
  },
  {
   "cell_type": "markdown",
   "metadata": {},
   "source": [
    "### Training The ML Model"
   ]
  },
  {
   "cell_type": "markdown",
   "metadata": {},
   "source": [
    "### Logistic Regression"
   ]
  },
  {
   "cell_type": "code",
   "execution_count": 52,
   "metadata": {},
   "outputs": [],
   "source": [
    "model = LogisticRegression(max_iter=1000)"
   ]
  },
  {
   "cell_type": "code",
   "execution_count": 53,
   "metadata": {},
   "outputs": [
    {
     "data": {
      "text/html": [
       "<style>#sk-container-id-1 {color: black;background-color: white;}#sk-container-id-1 pre{padding: 0;}#sk-container-id-1 div.sk-toggleable {background-color: white;}#sk-container-id-1 label.sk-toggleable__label {cursor: pointer;display: block;width: 100%;margin-bottom: 0;padding: 0.3em;box-sizing: border-box;text-align: center;}#sk-container-id-1 label.sk-toggleable__label-arrow:before {content: \"▸\";float: left;margin-right: 0.25em;color: #696969;}#sk-container-id-1 label.sk-toggleable__label-arrow:hover:before {color: black;}#sk-container-id-1 div.sk-estimator:hover label.sk-toggleable__label-arrow:before {color: black;}#sk-container-id-1 div.sk-toggleable__content {max-height: 0;max-width: 0;overflow: hidden;text-align: left;background-color: #f0f8ff;}#sk-container-id-1 div.sk-toggleable__content pre {margin: 0.2em;color: black;border-radius: 0.25em;background-color: #f0f8ff;}#sk-container-id-1 input.sk-toggleable__control:checked~div.sk-toggleable__content {max-height: 200px;max-width: 100%;overflow: auto;}#sk-container-id-1 input.sk-toggleable__control:checked~label.sk-toggleable__label-arrow:before {content: \"▾\";}#sk-container-id-1 div.sk-estimator input.sk-toggleable__control:checked~label.sk-toggleable__label {background-color: #d4ebff;}#sk-container-id-1 div.sk-label input.sk-toggleable__control:checked~label.sk-toggleable__label {background-color: #d4ebff;}#sk-container-id-1 input.sk-hidden--visually {border: 0;clip: rect(1px 1px 1px 1px);clip: rect(1px, 1px, 1px, 1px);height: 1px;margin: -1px;overflow: hidden;padding: 0;position: absolute;width: 1px;}#sk-container-id-1 div.sk-estimator {font-family: monospace;background-color: #f0f8ff;border: 1px dotted black;border-radius: 0.25em;box-sizing: border-box;margin-bottom: 0.5em;}#sk-container-id-1 div.sk-estimator:hover {background-color: #d4ebff;}#sk-container-id-1 div.sk-parallel-item::after {content: \"\";width: 100%;border-bottom: 1px solid gray;flex-grow: 1;}#sk-container-id-1 div.sk-label:hover label.sk-toggleable__label {background-color: #d4ebff;}#sk-container-id-1 div.sk-serial::before {content: \"\";position: absolute;border-left: 1px solid gray;box-sizing: border-box;top: 0;bottom: 0;left: 50%;z-index: 0;}#sk-container-id-1 div.sk-serial {display: flex;flex-direction: column;align-items: center;background-color: white;padding-right: 0.2em;padding-left: 0.2em;position: relative;}#sk-container-id-1 div.sk-item {position: relative;z-index: 1;}#sk-container-id-1 div.sk-parallel {display: flex;align-items: stretch;justify-content: center;background-color: white;position: relative;}#sk-container-id-1 div.sk-item::before, #sk-container-id-1 div.sk-parallel-item::before {content: \"\";position: absolute;border-left: 1px solid gray;box-sizing: border-box;top: 0;bottom: 0;left: 50%;z-index: -1;}#sk-container-id-1 div.sk-parallel-item {display: flex;flex-direction: column;z-index: 1;position: relative;background-color: white;}#sk-container-id-1 div.sk-parallel-item:first-child::after {align-self: flex-end;width: 50%;}#sk-container-id-1 div.sk-parallel-item:last-child::after {align-self: flex-start;width: 50%;}#sk-container-id-1 div.sk-parallel-item:only-child::after {width: 0;}#sk-container-id-1 div.sk-dashed-wrapped {border: 1px dashed gray;margin: 0 0.4em 0.5em 0.4em;box-sizing: border-box;padding-bottom: 0.4em;background-color: white;}#sk-container-id-1 div.sk-label label {font-family: monospace;font-weight: bold;display: inline-block;line-height: 1.2em;}#sk-container-id-1 div.sk-label-container {text-align: center;}#sk-container-id-1 div.sk-container {/* jupyter's `normalize.less` sets `[hidden] { display: none; }` but bootstrap.min.css set `[hidden] { display: none !important; }` so we also need the `!important` here to be able to override the default hidden behavior on the sphinx rendered scikit-learn.org. See: https://github.com/scikit-learn/scikit-learn/issues/21755 */display: inline-block !important;position: relative;}#sk-container-id-1 div.sk-text-repr-fallback {display: none;}</style><div id=\"sk-container-id-1\" class=\"sk-top-container\"><div class=\"sk-text-repr-fallback\"><pre>LogisticRegression(max_iter=1000)</pre><b>In a Jupyter environment, please rerun this cell to show the HTML representation or trust the notebook. <br />On GitHub, the HTML representation is unable to render, please try loading this page with nbviewer.org.</b></div><div class=\"sk-container\" hidden><div class=\"sk-item\"><div class=\"sk-estimator sk-toggleable\"><input class=\"sk-toggleable__control sk-hidden--visually\" id=\"sk-estimator-id-1\" type=\"checkbox\" checked><label for=\"sk-estimator-id-1\" class=\"sk-toggleable__label sk-toggleable__label-arrow\">LogisticRegression</label><div class=\"sk-toggleable__content\"><pre>LogisticRegression(max_iter=1000)</pre></div></div></div></div></div>"
      ],
      "text/plain": [
       "LogisticRegression(max_iter=1000)"
      ]
     },
     "execution_count": 53,
     "metadata": {},
     "output_type": "execute_result"
    }
   ],
   "source": [
    "model.fit(X_train,Y_train)"
   ]
  },
  {
   "cell_type": "markdown",
   "metadata": {},
   "source": [
    "### ML Model Evaluation"
   ]
  },
  {
   "cell_type": "markdown",
   "metadata": {},
   "source": [
    "#### Accuracy Score"
   ]
  },
  {
   "cell_type": "code",
   "execution_count": 54,
   "metadata": {},
   "outputs": [],
   "source": [
    "X_train_predictions = model.predict(X_train)\n",
    "training_data_accuracy = accuracy_score(Y_train, X_train_predictions)"
   ]
  },
  {
   "cell_type": "code",
   "execution_count": 55,
   "metadata": {},
   "outputs": [
    {
     "name": "stdout",
     "output_type": "stream",
     "text": [
      "Accuracy on the training data is 0.8980555555555556\n"
     ]
    }
   ],
   "source": [
    "print(f\"Accuracy on the training data is {training_data_accuracy}\")"
   ]
  },
  {
   "cell_type": "code",
   "execution_count": 56,
   "metadata": {},
   "outputs": [],
   "source": [
    "X_test_predictions = model.predict(X_test)\n",
    "testing_data_accuracy = accuracy_score(Y_test, X_test_predictions)"
   ]
  },
  {
   "cell_type": "code",
   "execution_count": 57,
   "metadata": {},
   "outputs": [
    {
     "name": "stdout",
     "output_type": "stream",
     "text": [
      "Accuracy on the testing data is 0.8580555555555556\n"
     ]
    }
   ],
   "source": [
    "print(f\"Accuracy on the testing data is {testing_data_accuracy}\")\n"
   ]
  },
  {
   "cell_type": "markdown",
   "metadata": {},
   "source": [
    "#### Saving The Trained Model"
   ]
  },
  {
   "cell_type": "code",
   "execution_count": 58,
   "metadata": {},
   "outputs": [],
   "source": [
    "import pickle"
   ]
  },
  {
   "cell_type": "code",
   "execution_count": 59,
   "metadata": {},
   "outputs": [],
   "source": [
    "filename = 'trained_model.sav'\n",
    "pickle.dump(model, open(filename, 'wb'))"
   ]
  },
  {
   "cell_type": "code",
   "execution_count": 60,
   "metadata": {},
   "outputs": [],
   "source": [
    "filename_vectorizer = 'vectorizer.sav'\n",
    "pickle.dump(vectorizer, open(filename_vectorizer, 'wb'))"
   ]
  },
  {
   "cell_type": "markdown",
   "metadata": {},
   "source": [
    "#### Using The Saved Model For Future Predictions"
   ]
  },
  {
   "cell_type": "code",
   "execution_count": 61,
   "metadata": {},
   "outputs": [],
   "source": [
    "# loading the saved model\n",
    "loaded_model = pickle.load(open('./trained_model.sav', 'rb'))"
   ]
  },
  {
   "cell_type": "code",
   "execution_count": 62,
   "metadata": {},
   "outputs": [
    {
     "name": "stdout",
     "output_type": "stream",
     "text": [
      "1\n",
      "[1]\n",
      "It is a positive tweet.\n"
     ]
    }
   ],
   "source": [
    "X_new = X_test[309]\n",
    "print(Y_test[309])\n",
    "prediction = model.predict(X_new)\n",
    "print(prediction)\n",
    "if (prediction[0] == 0):\n",
    "    print(\"It is a negative tweet.\")\n",
    "    \n",
    "else:\n",
    "    print(\"It is a positive tweet.\")"
   ]
  },
  {
   "cell_type": "code",
   "execution_count": 63,
   "metadata": {},
   "outputs": [
    {
     "name": "stdout",
     "output_type": "stream",
     "text": [
      "[[1556  244]\n",
      " [ 267 1533]]\n",
      "              precision    recall  f1-score   support\n",
      "\n",
      "           0       0.85      0.86      0.86      1800\n",
      "           1       0.86      0.85      0.86      1800\n",
      "\n",
      "    accuracy                           0.86      3600\n",
      "   macro avg       0.86      0.86      0.86      3600\n",
      "weighted avg       0.86      0.86      0.86      3600\n",
      "\n"
     ]
    }
   ],
   "source": [
    "from sklearn.metrics import confusion_matrix, classification_report\n",
    "\n",
    "Y_test_predictions = model.predict(X_test)\n",
    "print(confusion_matrix(Y_test, Y_test_predictions))\n",
    "print(classification_report(Y_test, Y_test_predictions))\n"
   ]
  },
  {
   "cell_type": "code",
   "execution_count": 64,
   "metadata": {},
   "outputs": [
    {
     "name": "stdout",
     "output_type": "stream",
     "text": [
      "sad th btech without project\n"
     ]
    }
   ],
   "source": [
    "new_tweet = \"i am very sad that i am at 4th btech without any projects\"\n",
    "\n",
    "# Apply the same stemming function\n",
    "new_tweet_stemmed = stemming(new_tweet)\n",
    "print(new_tweet_stemmed)\n"
   ]
  },
  {
   "cell_type": "code",
   "execution_count": 65,
   "metadata": {},
   "outputs": [],
   "source": [
    "# Load the saved vectorizer if needed\n",
    "# vectorizer = pickle.load(open('vectorizer.sav', 'rb'))\n",
    "\n",
    "new_tweet_vector = vectorizer.transform([new_tweet_stemmed])\n"
   ]
  },
  {
   "cell_type": "code",
   "execution_count": 66,
   "metadata": {},
   "outputs": [
    {
     "name": "stdout",
     "output_type": "stream",
     "text": [
      "[0]\n"
     ]
    }
   ],
   "source": [
    "# Load the trained model if needed\n",
    "# loaded_model = pickle.load(open('trained_model.sav', 'rb'))\n",
    "\n",
    "prediction = loaded_model.predict(new_tweet_vector)\n",
    "print(prediction)  # numeric label\n"
   ]
  },
  {
   "cell_type": "code",
   "execution_count": 67,
   "metadata": {},
   "outputs": [
    {
     "name": "stdout",
     "output_type": "stream",
     "text": [
      "It is a negative tweet.\n"
     ]
    }
   ],
   "source": [
    "if prediction[0] == 0:\n",
    "    print(\"It is a negative tweet.\")\n",
    "elif prediction[0] == 1:\n",
    "    print(\"It is a positive tweet.\")\n",
    "elif prediction[0] == 2:\n",
    "    print(\"It is a neutral tweet.\")\n",
    "else:\n",
    "    print(\"It is an irrelevant tweet.\")\n"
   ]
  },
  {
   "cell_type": "code",
   "execution_count": null,
   "metadata": {},
   "outputs": [],
   "source": []
  }
 ],
 "metadata": {
  "kernelspec": {
   "display_name": "Python 3 (ipykernel)",
   "language": "python",
   "name": "python3"
  },
  "language_info": {
   "codemirror_mode": {
    "name": "ipython",
    "version": 3
   },
   "file_extension": ".py",
   "mimetype": "text/x-python",
   "name": "python",
   "nbconvert_exporter": "python",
   "pygments_lexer": "ipython3",
   "version": "3.10.9"
  }
 },
 "nbformat": 4,
 "nbformat_minor": 4
}
